{
 "cells": [
  {
   "cell_type": "code",
   "execution_count": 1,
   "metadata": {
    "id": "tgvpmPtQJ2fP"
   },
   "outputs": [],
   "source": [
    "import seaborn as sns\n",
    "import matplotlib.pyplot as plt\n",
    "\n",
    "\n",
    "from sklearn.utils import shuffle\n",
    "\n",
    "import pandas as pd\n",
    "import numpy as np\n",
    "\n",
    "import pickle\n",
    "\n",
    "import random\n",
    "from sklearn.metrics.pairwise import euclidean_distances\n",
    "\n",
    "import numpy as np\n",
    "from sklearn.decomposition import PCA"
   ]
  },
  {
   "cell_type": "code",
   "execution_count": 2,
   "metadata": {
    "id": "notAyGVrJ2fR"
   },
   "outputs": [],
   "source": [
    "from model_fit_functions import calculate_reconstr_loss_pca_tau, rescale_back\n",
    "from data_load import load_split_pool"
   ]
  },
  {
   "cell_type": "code",
   "execution_count": 3,
   "metadata": {
    "id": "7jW7DZyLO1JL"
   },
   "outputs": [],
   "source": [
    "from model_fit_functions import dump_object"
   ]
  },
  {
   "cell_type": "code",
   "execution_count": 25,
   "metadata": {
    "id": "WRFaYEtNJ2fR",
    "outputId": "c8825ccc-a15d-4148-ddc7-c1f058cd8fbf"
   },
   "outputs": [
    {
     "name": "stdout",
     "output_type": "stream",
     "text": [
      "Directory: ./data/ Physical properties shape: (2156, 5) Spectral prop shape: (2156, 110001)\n",
      "Spectral data shape (2156, 110001)\n",
      "Physical data shape (2156, 5)\n"
     ]
    }
   ],
   "source": [
    "# Load data\n",
    "directory_list = ['./data/']\n",
    "data_dict =  load_split_pool(1346, 430, 10, scale = False, take_log = True, directory_list = directory_list)\n",
    "\n",
    "# Pooled X data\n",
    "train_df_pooled = data_dict[\"x_pooled\"][\"train\"]\n",
    "val_df_pooled = data_dict[\"x_pooled\"][\"val\"]"
   ]
  },
  {
   "cell_type": "code",
   "execution_count": 13,
   "metadata": {
    "id": "sdVcnmOkJ2fS",
    "outputId": "2078c25d-f805-44b9-9b8a-77789c6d44ef"
   },
   "outputs": [
    {
     "data": {
      "text/plain": [
       "dict_keys(['x', 'x_pooled', 'y', 'parameters', 'wavelengths'])"
      ]
     },
     "execution_count": 13,
     "metadata": {},
     "output_type": "execute_result"
    }
   ],
   "source": [
    "data_dict.keys()"
   ]
  },
  {
   "cell_type": "code",
   "execution_count": 24,
   "metadata": {},
   "outputs": [
    {
     "data": {
      "text/html": [
       "<div>\n",
       "<style scoped>\n",
       "    .dataframe tbody tr th:only-of-type {\n",
       "        vertical-align: middle;\n",
       "    }\n",
       "\n",
       "    .dataframe tbody tr th {\n",
       "        vertical-align: top;\n",
       "    }\n",
       "\n",
       "    .dataframe thead th {\n",
       "        text-align: right;\n",
       "    }\n",
       "</style>\n",
       "<table border=\"1\" class=\"dataframe\">\n",
       "  <thead>\n",
       "    <tr style=\"text-align: right;\">\n",
       "      <th></th>\n",
       "      <th>0</th>\n",
       "      <th>1</th>\n",
       "      <th>2</th>\n",
       "      <th>3</th>\n",
       "      <th>4</th>\n",
       "      <th>5</th>\n",
       "      <th>6</th>\n",
       "      <th>7</th>\n",
       "      <th>8</th>\n",
       "      <th>9</th>\n",
       "      <th>...</th>\n",
       "      <th>10991</th>\n",
       "      <th>10992</th>\n",
       "      <th>10993</th>\n",
       "      <th>10994</th>\n",
       "      <th>10995</th>\n",
       "      <th>10996</th>\n",
       "      <th>10997</th>\n",
       "      <th>10998</th>\n",
       "      <th>10999</th>\n",
       "      <th>11000</th>\n",
       "    </tr>\n",
       "  </thead>\n",
       "  <tbody>\n",
       "    <tr>\n",
       "      <th>0</th>\n",
       "      <td>-0.261725</td>\n",
       "      <td>-0.452267</td>\n",
       "      <td>1.140954</td>\n",
       "      <td>1.363089</td>\n",
       "      <td>-1.654396</td>\n",
       "      <td>1.447690</td>\n",
       "      <td>-0.027496</td>\n",
       "      <td>0.899347</td>\n",
       "      <td>0.788919</td>\n",
       "      <td>-0.316874</td>\n",
       "      <td>...</td>\n",
       "      <td>0.783853</td>\n",
       "      <td>-0.922220</td>\n",
       "      <td>-0.809217</td>\n",
       "      <td>0.452159</td>\n",
       "      <td>1.128638</td>\n",
       "      <td>-1.643977</td>\n",
       "      <td>1.671632</td>\n",
       "      <td>0.439653</td>\n",
       "      <td>1.402640</td>\n",
       "      <td>-0.131205</td>\n",
       "    </tr>\n",
       "    <tr>\n",
       "      <th>1</th>\n",
       "      <td>-0.308742</td>\n",
       "      <td>1.278384</td>\n",
       "      <td>-0.164257</td>\n",
       "      <td>0.423641</td>\n",
       "      <td>-0.925619</td>\n",
       "      <td>2.138461</td>\n",
       "      <td>-0.139614</td>\n",
       "      <td>-2.459442</td>\n",
       "      <td>-0.458937</td>\n",
       "      <td>0.731117</td>\n",
       "      <td>...</td>\n",
       "      <td>-1.510462</td>\n",
       "      <td>-1.208887</td>\n",
       "      <td>0.794462</td>\n",
       "      <td>-0.432361</td>\n",
       "      <td>1.411682</td>\n",
       "      <td>0.879757</td>\n",
       "      <td>-0.362473</td>\n",
       "      <td>-1.266781</td>\n",
       "      <td>0.630467</td>\n",
       "      <td>-1.179472</td>\n",
       "    </tr>\n",
       "    <tr>\n",
       "      <th>2</th>\n",
       "      <td>0.787641</td>\n",
       "      <td>0.579387</td>\n",
       "      <td>-0.576880</td>\n",
       "      <td>-0.466008</td>\n",
       "      <td>-0.764366</td>\n",
       "      <td>0.891138</td>\n",
       "      <td>-1.470187</td>\n",
       "      <td>0.857359</td>\n",
       "      <td>-0.094512</td>\n",
       "      <td>-2.093791</td>\n",
       "      <td>...</td>\n",
       "      <td>0.566391</td>\n",
       "      <td>-1.182059</td>\n",
       "      <td>0.194154</td>\n",
       "      <td>1.002556</td>\n",
       "      <td>-1.420636</td>\n",
       "      <td>1.528686</td>\n",
       "      <td>-0.514753</td>\n",
       "      <td>0.853640</td>\n",
       "      <td>0.605525</td>\n",
       "      <td>1.334512</td>\n",
       "    </tr>\n",
       "    <tr>\n",
       "      <th>3</th>\n",
       "      <td>0.479718</td>\n",
       "      <td>-0.037415</td>\n",
       "      <td>-0.787147</td>\n",
       "      <td>0.575379</td>\n",
       "      <td>-0.132575</td>\n",
       "      <td>-0.917425</td>\n",
       "      <td>0.113505</td>\n",
       "      <td>0.180280</td>\n",
       "      <td>0.304748</td>\n",
       "      <td>-0.634584</td>\n",
       "      <td>...</td>\n",
       "      <td>-0.518988</td>\n",
       "      <td>-2.691128</td>\n",
       "      <td>-0.034486</td>\n",
       "      <td>-0.558620</td>\n",
       "      <td>-0.473542</td>\n",
       "      <td>1.007500</td>\n",
       "      <td>-1.691567</td>\n",
       "      <td>-0.877696</td>\n",
       "      <td>-0.365114</td>\n",
       "      <td>0.435146</td>\n",
       "    </tr>\n",
       "    <tr>\n",
       "      <th>4</th>\n",
       "      <td>0.121239</td>\n",
       "      <td>0.828071</td>\n",
       "      <td>-0.722794</td>\n",
       "      <td>0.498755</td>\n",
       "      <td>1.147220</td>\n",
       "      <td>-0.777277</td>\n",
       "      <td>0.262013</td>\n",
       "      <td>0.119812</td>\n",
       "      <td>-0.189020</td>\n",
       "      <td>0.111844</td>\n",
       "      <td>...</td>\n",
       "      <td>1.523959</td>\n",
       "      <td>-0.848940</td>\n",
       "      <td>0.576777</td>\n",
       "      <td>-0.138432</td>\n",
       "      <td>1.201143</td>\n",
       "      <td>0.171689</td>\n",
       "      <td>-0.480796</td>\n",
       "      <td>-0.153023</td>\n",
       "      <td>0.384069</td>\n",
       "      <td>-0.953567</td>\n",
       "    </tr>\n",
       "    <tr>\n",
       "      <th>...</th>\n",
       "      <td>...</td>\n",
       "      <td>...</td>\n",
       "      <td>...</td>\n",
       "      <td>...</td>\n",
       "      <td>...</td>\n",
       "      <td>...</td>\n",
       "      <td>...</td>\n",
       "      <td>...</td>\n",
       "      <td>...</td>\n",
       "      <td>...</td>\n",
       "      <td>...</td>\n",
       "      <td>...</td>\n",
       "      <td>...</td>\n",
       "      <td>...</td>\n",
       "      <td>...</td>\n",
       "      <td>...</td>\n",
       "      <td>...</td>\n",
       "      <td>...</td>\n",
       "      <td>...</td>\n",
       "      <td>...</td>\n",
       "      <td>...</td>\n",
       "    </tr>\n",
       "    <tr>\n",
       "      <th>425</th>\n",
       "      <td>0.047078</td>\n",
       "      <td>-1.418437</td>\n",
       "      <td>-1.618868</td>\n",
       "      <td>-1.538063</td>\n",
       "      <td>-1.001459</td>\n",
       "      <td>0.427354</td>\n",
       "      <td>-1.342271</td>\n",
       "      <td>-1.474734</td>\n",
       "      <td>-0.237448</td>\n",
       "      <td>-0.544546</td>\n",
       "      <td>...</td>\n",
       "      <td>0.116119</td>\n",
       "      <td>0.007400</td>\n",
       "      <td>0.354135</td>\n",
       "      <td>-1.437082</td>\n",
       "      <td>0.446700</td>\n",
       "      <td>0.495073</td>\n",
       "      <td>-0.521104</td>\n",
       "      <td>1.178329</td>\n",
       "      <td>-0.341259</td>\n",
       "      <td>-1.057599</td>\n",
       "    </tr>\n",
       "    <tr>\n",
       "      <th>426</th>\n",
       "      <td>-0.886843</td>\n",
       "      <td>0.228595</td>\n",
       "      <td>0.435293</td>\n",
       "      <td>0.186362</td>\n",
       "      <td>-0.968384</td>\n",
       "      <td>-0.572528</td>\n",
       "      <td>1.491291</td>\n",
       "      <td>-1.518188</td>\n",
       "      <td>-0.619075</td>\n",
       "      <td>-1.441261</td>\n",
       "      <td>...</td>\n",
       "      <td>-1.004401</td>\n",
       "      <td>0.821680</td>\n",
       "      <td>-0.253034</td>\n",
       "      <td>0.005282</td>\n",
       "      <td>-0.956320</td>\n",
       "      <td>0.497714</td>\n",
       "      <td>0.136117</td>\n",
       "      <td>1.418922</td>\n",
       "      <td>-1.213933</td>\n",
       "      <td>-1.037034</td>\n",
       "    </tr>\n",
       "    <tr>\n",
       "      <th>427</th>\n",
       "      <td>0.028027</td>\n",
       "      <td>1.455767</td>\n",
       "      <td>-0.392682</td>\n",
       "      <td>2.107264</td>\n",
       "      <td>-0.397313</td>\n",
       "      <td>2.170282</td>\n",
       "      <td>-1.371076</td>\n",
       "      <td>-0.549702</td>\n",
       "      <td>0.470086</td>\n",
       "      <td>1.326953</td>\n",
       "      <td>...</td>\n",
       "      <td>-0.641880</td>\n",
       "      <td>-0.961819</td>\n",
       "      <td>-1.577985</td>\n",
       "      <td>-1.103819</td>\n",
       "      <td>-0.375256</td>\n",
       "      <td>-1.063107</td>\n",
       "      <td>0.349854</td>\n",
       "      <td>-0.725187</td>\n",
       "      <td>0.935387</td>\n",
       "      <td>0.939323</td>\n",
       "    </tr>\n",
       "    <tr>\n",
       "      <th>428</th>\n",
       "      <td>0.675879</td>\n",
       "      <td>1.139785</td>\n",
       "      <td>-0.227954</td>\n",
       "      <td>0.714606</td>\n",
       "      <td>0.730075</td>\n",
       "      <td>-0.236688</td>\n",
       "      <td>1.180011</td>\n",
       "      <td>-0.377444</td>\n",
       "      <td>-2.330169</td>\n",
       "      <td>-0.245842</td>\n",
       "      <td>...</td>\n",
       "      <td>0.479082</td>\n",
       "      <td>-0.444309</td>\n",
       "      <td>-0.071059</td>\n",
       "      <td>-0.399628</td>\n",
       "      <td>0.154800</td>\n",
       "      <td>1.420768</td>\n",
       "      <td>-0.362462</td>\n",
       "      <td>-0.483165</td>\n",
       "      <td>0.611117</td>\n",
       "      <td>-0.037678</td>\n",
       "    </tr>\n",
       "    <tr>\n",
       "      <th>429</th>\n",
       "      <td>-0.789737</td>\n",
       "      <td>-0.571980</td>\n",
       "      <td>-0.387865</td>\n",
       "      <td>-0.357569</td>\n",
       "      <td>-0.008089</td>\n",
       "      <td>0.486867</td>\n",
       "      <td>-0.324578</td>\n",
       "      <td>1.430754</td>\n",
       "      <td>1.291945</td>\n",
       "      <td>-0.539222</td>\n",
       "      <td>...</td>\n",
       "      <td>0.038166</td>\n",
       "      <td>-0.823158</td>\n",
       "      <td>1.314650</td>\n",
       "      <td>0.033802</td>\n",
       "      <td>0.741773</td>\n",
       "      <td>-0.441311</td>\n",
       "      <td>0.099512</td>\n",
       "      <td>0.296466</td>\n",
       "      <td>0.145463</td>\n",
       "      <td>-0.496545</td>\n",
       "    </tr>\n",
       "  </tbody>\n",
       "</table>\n",
       "<p>430 rows × 11001 columns</p>\n",
       "</div>"
      ],
      "text/plain": [
       "        0         1         2         3         4         5         6      \\\n",
       "0   -0.261725 -0.452267  1.140954  1.363089 -1.654396  1.447690 -0.027496   \n",
       "1   -0.308742  1.278384 -0.164257  0.423641 -0.925619  2.138461 -0.139614   \n",
       "2    0.787641  0.579387 -0.576880 -0.466008 -0.764366  0.891138 -1.470187   \n",
       "3    0.479718 -0.037415 -0.787147  0.575379 -0.132575 -0.917425  0.113505   \n",
       "4    0.121239  0.828071 -0.722794  0.498755  1.147220 -0.777277  0.262013   \n",
       "..        ...       ...       ...       ...       ...       ...       ...   \n",
       "425  0.047078 -1.418437 -1.618868 -1.538063 -1.001459  0.427354 -1.342271   \n",
       "426 -0.886843  0.228595  0.435293  0.186362 -0.968384 -0.572528  1.491291   \n",
       "427  0.028027  1.455767 -0.392682  2.107264 -0.397313  2.170282 -1.371076   \n",
       "428  0.675879  1.139785 -0.227954  0.714606  0.730075 -0.236688  1.180011   \n",
       "429 -0.789737 -0.571980 -0.387865 -0.357569 -0.008089  0.486867 -0.324578   \n",
       "\n",
       "        7         8         9      ...     10991     10992     10993  \\\n",
       "0    0.899347  0.788919 -0.316874  ...  0.783853 -0.922220 -0.809217   \n",
       "1   -2.459442 -0.458937  0.731117  ... -1.510462 -1.208887  0.794462   \n",
       "2    0.857359 -0.094512 -2.093791  ...  0.566391 -1.182059  0.194154   \n",
       "3    0.180280  0.304748 -0.634584  ... -0.518988 -2.691128 -0.034486   \n",
       "4    0.119812 -0.189020  0.111844  ...  1.523959 -0.848940  0.576777   \n",
       "..        ...       ...       ...  ...       ...       ...       ...   \n",
       "425 -1.474734 -0.237448 -0.544546  ...  0.116119  0.007400  0.354135   \n",
       "426 -1.518188 -0.619075 -1.441261  ... -1.004401  0.821680 -0.253034   \n",
       "427 -0.549702  0.470086  1.326953  ... -0.641880 -0.961819 -1.577985   \n",
       "428 -0.377444 -2.330169 -0.245842  ...  0.479082 -0.444309 -0.071059   \n",
       "429  1.430754  1.291945 -0.539222  ...  0.038166 -0.823158  1.314650   \n",
       "\n",
       "        10994     10995     10996     10997     10998     10999     11000  \n",
       "0    0.452159  1.128638 -1.643977  1.671632  0.439653  1.402640 -0.131205  \n",
       "1   -0.432361  1.411682  0.879757 -0.362473 -1.266781  0.630467 -1.179472  \n",
       "2    1.002556 -1.420636  1.528686 -0.514753  0.853640  0.605525  1.334512  \n",
       "3   -0.558620 -0.473542  1.007500 -1.691567 -0.877696 -0.365114  0.435146  \n",
       "4   -0.138432  1.201143  0.171689 -0.480796 -0.153023  0.384069 -0.953567  \n",
       "..        ...       ...       ...       ...       ...       ...       ...  \n",
       "425 -1.437082  0.446700  0.495073 -0.521104  1.178329 -0.341259 -1.057599  \n",
       "426  0.005282 -0.956320  0.497714  0.136117  1.418922 -1.213933 -1.037034  \n",
       "427 -1.103819 -0.375256 -1.063107  0.349854 -0.725187  0.935387  0.939323  \n",
       "428 -0.399628  0.154800  1.420768 -0.362462 -0.483165  0.611117 -0.037678  \n",
       "429  0.033802  0.741773 -0.441311  0.099512  0.296466  0.145463 -0.496545  \n",
       "\n",
       "[430 rows x 11001 columns]"
      ]
     },
     "execution_count": 24,
     "metadata": {},
     "output_type": "execute_result"
    }
   ],
   "source": [
    "data_dict[\"x_pooled\"][\"val\"]"
   ]
  },
  {
   "cell_type": "markdown",
   "metadata": {
    "id": "z7ja2FQMJ2fS"
   },
   "source": [
    "### PCA"
   ]
  },
  {
   "cell_type": "code",
   "execution_count": 26,
   "metadata": {
    "id": "5LV5MgWgJ2fS"
   },
   "outputs": [],
   "source": [
    "n_comp_list_pca = list( np.arange(1, 100, 2) )"
   ]
  },
  {
   "cell_type": "code",
   "execution_count": 27,
   "metadata": {
    "id": "sZjl6LazJ2fT"
   },
   "outputs": [],
   "source": [
    "pca_results_dict = dict()"
   ]
  },
  {
   "cell_type": "code",
   "execution_count": 28,
   "metadata": {
    "id": "dlDtpVBsJ2fT"
   },
   "outputs": [],
   "source": [
    "# Fit PCA\n",
    "\n",
    "pca = PCA(n_components=250)\n",
    "pca.fit(train_df_pooled)\n",
    "x_train_pca = pca.transform(train_df_pooled)\n",
    "x_val_pca = pca.transform(val_df_pooled)\n",
    "\n",
    "\n",
    "pca_results_dict[\"object\"] = pca\n",
    "pca_results_dict[\"x_train_input\"] = train_df_pooled\n",
    "pca_results_dict[\"x_val_input\"] = val_df_pooled\n",
    "\n",
    "pca_results_dict[\"x_train_transformed\"] = x_train_pca\n",
    "pca_results_dict[\"x_val_transformed\"] = x_val_pca"
   ]
  },
  {
   "cell_type": "markdown",
   "metadata": {
    "id": "M5M2xb7bJ2fT"
   },
   "source": [
    "# Reconstruction loss"
   ]
  },
  {
   "cell_type": "code",
   "execution_count": 29,
   "metadata": {
    "id": "mtuOPcYxJ2fT"
   },
   "outputs": [],
   "source": [
    "pca_results_dict[\"restricted_spaces\"] = dict()\n",
    "\n",
    "pca_loss_list = []\n",
    "dist_mean_pca = []\n",
    "dist_std_pca = []\n",
    "\n",
    "for n_comp in n_comp_list_pca:\n",
    "    \n",
    "    x_val_pca, x_val_original_space_pca, pca_loss = calculate_reconstr_loss_pca_tau(pca, val_df_pooled, n_comp, \n",
    "                              rescale = False,\n",
    "                             mean = data_dict[\"parameters\"][\"mean\"],\n",
    "                             std = data_dict[\"parameters\"][\"std\"])\n",
    "    \n",
    "    pca_results_dict[\"restricted_spaces\"][n_comp] = dict()\n",
    "    pca_results_dict[\"restricted_spaces\"][n_comp][\"x_val_transformed\"] = x_val_pca\n",
    "    pca_results_dict[\"restricted_spaces\"][n_comp][\"x_val_original_space_pca\"] = x_val_original_space_pca\n",
    "    pca_results_dict[\"restricted_spaces\"][n_comp][\"loss\"] = pca_loss\n",
    "    \n",
    "    pca_loss_list.append(pca_loss)\n",
    "    \n",
    "pca_results_dict[\"loss\"] = pca_loss"
   ]
  },
  {
   "cell_type": "code",
   "execution_count": 30,
   "metadata": {
    "id": "TPES7K-iJ2fU",
    "outputId": "15002f93-c3e6-4442-d98e-c5721e8573ef"
   },
   "outputs": [
    {
     "data": {
      "text/plain": [
       "Text(0.5, 0, 'Number of components')"
      ]
     },
     "execution_count": 30,
     "metadata": {},
     "output_type": "execute_result"
    },
    {
     "data": {
      "image/png": "[encoded data removed]",
      "text/plain": [
       "<Figure size 576x432 with 1 Axes>"
      ]
     },
     "metadata": {
      "needs_background": "light"
     },
     "output_type": "display_data"
    }
   ],
   "source": [
    "fig, ax = plt.subplots(figsize = (8,6))\n",
    "ax.plot( np.array(n_comp_list_pca), np.array(pca_loss_list) , label = \"PCA\")\n",
    "\n",
    "ax.legend()\n",
    "ax.set_title(\"Reconstruction loss (MSE) - in terms of light intensity\", fontsize = 16)\n",
    "ax.set_ylabel(\"MSE\", fontsize = 14)\n",
    "ax.set_xlabel(\"Number of components\", fontsize = 14)"
   ]
  },
  {
   "cell_type": "code",
   "execution_count": 31,
   "metadata": {
    "id": "RI6MarAFJ2fU"
   },
   "outputs": [],
   "source": [
    "pca_tau_loss = dict()\n",
    "pca_tau_loss[\"loss\"] = pca_loss_list\n",
    "pca_tau_loss[\"ncomps\"] = n_comp_list_pca"
   ]
  },
  {
   "cell_type": "code",
   "execution_count": 34,
   "metadata": {
    "id": "NjkGamXmOm36"
   },
   "outputs": [
    {
     "data": {
      "text/plain": [
       "()"
      ]
     },
     "execution_count": 34,
     "metadata": {},
     "output_type": "execute_result"
    }
   ],
   "source": [
    "# Save the object (commented out to prevent overwriting)\n",
    "location = './outputs'\n",
    "filename = \"pca_tau_try\"\n",
    "dump_object(pca_results_dict, location, filename)"
   ]
  },
  {
   "cell_type": "markdown",
   "metadata": {
    "id": "8HNXnQtFJ2fV"
   },
   "source": [
    "# Signal reconstruction"
   ]
  },
  {
   "cell_type": "code",
   "execution_count": null,
   "metadata": {
    "id": "1flZQuVIJ2fV"
   },
   "outputs": [],
   "source": [
    "random.seed(2324)\n",
    "random_number = random.sample(range(val_df_pooled.shape[0]), 1, )\n",
    "number_of_elements = 20"
   ]
  },
  {
   "cell_type": "code",
   "execution_count": null,
   "metadata": {
    "id": "7IIKIT5lJ2fV",
    "outputId": "ff5bdd9b-4260-4764-b747-0149bb0b8cb3"
   },
   "outputs": [
    {
     "data": {
      "text/plain": [
       "[275]"
      ]
     },
     "execution_count": 12,
     "metadata": {},
     "output_type": "execute_result"
    }
   ],
   "source": [
    "random_number"
   ]
  },
  {
   "cell_type": "code",
   "execution_count": null,
   "metadata": {
    "id": "GpaD4aI6J2fV"
   },
   "outputs": [],
   "source": [
    "n_comp = 50"
   ]
  },
  {
   "cell_type": "code",
   "execution_count": null,
   "metadata": {
    "id": "6D-OqoUyJ2fV"
   },
   "outputs": [],
   "source": [
    "val_projected_pca, val_original_space_proj_pca, loss_pca = calculate_reconstr_loss_pca_tau(pca, val_df_pooled, n_comp,\n",
    "                             rescale = False,\n",
    "                             mean = data_dict[\"parameters\"][\"mean\"],\n",
    "                             std = data_dict[\"parameters\"][\"std\"])"
   ]
  },
  {
   "cell_type": "code",
   "execution_count": null,
   "metadata": {
    "id": "-dmwGXn_J2fW",
    "outputId": "3243ec6d-19dd-4d17-c63d-e5607a181c90"
   },
   "outputs": [
    {
     "data": {
      "image/png": "[encoded data removed]",
      "text/plain": [
       "<Figure size 1152x1008 with 2 Axes>"
      ]
     },
     "metadata": {
      "needs_background": "light"
     },
     "output_type": "display_data"
    }
   ],
   "source": [
    "import matplotlib.pyplot as plt\n",
    "\n",
    "fig, ax = plt.subplots(2, 1, sharex = True, figsize = (16, 14))\n",
    "\n",
    "ax[0].plot(data_dict[\"wavelengths\"], val_original_space_proj_pca[random_number,:][0], label = \"PCA\", linewidth = 0.75, color = \"green\")\n",
    "ax[0].legend(fontsize = 14)\n",
    "\n",
    "ax[1].plot(data_dict[\"wavelengths\"], val_df_pooled[random_number,:][0], label = \"Original data point\", linewidth = 0.75, color = \"darkorange\")\n",
    "ax[1].legend(fontsize = 14)\n",
    "\n",
    "ax[0].set_title(\"Reconstruction of the original signal (point n. \" + str(random_number[0]) + \")\",\n",
    "               fontsize = (16));"
   ]
  },
  {
   "cell_type": "code",
   "execution_count": null,
   "metadata": {
    "id": "4fQIvXYDJ2fW"
   },
   "outputs": [],
   "source": []
  }
 ],
 "metadata": {
  "colab": {
   "name": "model_pca_tau.ipynb",
   "provenance": []
  },
  "kernelspec": {
   "display_name": "gsof_env",
   "language": "python",
   "name": "gsof_env"
  },
  "language_info": {
   "codemirror_mode": {
    "name": "ipython",
    "version": 3
   },
   "file_extension": ".py",
   "mimetype": "text/x-python",
   "name": "python",
   "nbconvert_exporter": "python",
   "pygments_lexer": "ipython3",
   "version": "3.8.6"
  }
 },
 "nbformat": 4,
 "nbformat_minor": 1
}
